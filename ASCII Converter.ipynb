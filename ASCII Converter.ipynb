{
 "cells": [
  {
   "cell_type": "code",
   "execution_count": 16,
   "id": "594d5155",
   "metadata": {},
   "outputs": [
    {
     "name": "stdout",
     "output_type": "stream",
     "text": [
      "File 'C:\\Users\\Wren\\Downloads\\rs3\\TestRw1_method2.txt' has been converted to ASCII and saved as 'C:\\Users\\Wren\\Downloads\\rs3\\TestRw1_method2.txt'.\n"
     ]
    }
   ],
   "source": [
    "import unidecode\n",
    "\n",
    "def convert_to_ascii(input_file, output_file):\n",
    "    try:\n",
    "        # Read the input file with UTF-8 encoding\n",
    "        with open(input_file, 'r', encoding='utf-8') as file:\n",
    "            content = file.read()\n",
    "        \n",
    "        # Convert content to ASCII using unidecode\n",
    "        ascii_content = unidecode.unidecode(content)\n",
    "        \n",
    "        # Write the ASCII content to the output file\n",
    "        with open(output_file, 'w', encoding='ascii') as file:\n",
    "            file.write(ascii_content)\n",
    "        \n",
    "        print(f\"File '{input_file}' has been converted to ASCII and saved as '{output_file}'.\")\n",
    "    \n",
    "    except Exception as e:\n",
    "        print(f\"An error occurred: {e}\")\n",
    "\n",
    "# Example usage\n",
    "input_file = r'C:\\Users\\Wren\\Downloads\\rs3\\RW2_allspans.txt'\n",
    "output_file = r'C:\\Users\\Wren\\Downloads\\rs3\\RW2_allspans.txt'\n",
    "convert_to_ascii(input_file, output_file)"
   ]
  },
  {
   "cell_type": "code",
   "execution_count": 2,
   "id": "c77e3fae",
   "metadata": {},
   "outputs": [
    {
     "name": "stdout",
     "output_type": "stream",
     "text": [
      "The file 'C:\\Users\\Wren\\Downloads\\rs3\\RemoteWork2_shortFINAL_ascii.txt' is ASCII encoded.\n"
     ]
    }
   ],
   "source": [
    "def is_ascii_encoded(file_path):\n",
    "    try:\n",
    "        with open(file_path, 'r', encoding='ascii') as file:\n",
    "            file.read()\n",
    "        return True\n",
    "    except UnicodeDecodeError:\n",
    "        return False\n",
    "\n",
    "# Example usage\n",
    "file_path = r'C:\\Users\\Wren\\Downloads\\rs3\\RemoteWork2_shortFINAL_ascii.txt'\n",
    "if is_ascii_encoded(file_path):\n",
    "    print(f\"The file '{file_path}' is ASCII encoded.\")\n",
    "else:\n",
    "    print(f\"The file '{file_path}' is not ASCII encoded.\")\n"
   ]
  },
  {
   "cell_type": "code",
   "execution_count": null,
   "id": "8798bf7d",
   "metadata": {},
   "outputs": [],
   "source": []
  }
 ],
 "metadata": {
  "kernelspec": {
   "display_name": "Python [conda env:base] *",
   "language": "python",
   "name": "conda-base-py"
  },
  "language_info": {
   "codemirror_mode": {
    "name": "ipython",
    "version": 3
   },
   "file_extension": ".py",
   "mimetype": "text/x-python",
   "name": "python",
   "nbconvert_exporter": "python",
   "pygments_lexer": "ipython3",
   "version": "3.12.7"
  }
 },
 "nbformat": 4,
 "nbformat_minor": 5
}
