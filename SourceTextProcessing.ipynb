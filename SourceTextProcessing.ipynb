{
 "cells": [
  {
   "cell_type": "code",
   "execution_count": 11,
   "id": "b843fe09",
   "metadata": {},
   "outputs": [
    {
     "name": "stdout",
     "output_type": "stream",
     "text": [
      "Processed text saved to: RemoteWork1_edus.txt\n"
     ]
    }
   ],
   "source": [
    "import os\n",
    "import re\n",
    "\n",
    "def process_text(text):\n",
    "    # List of titles\n",
    "    titles = [\"Mr\", \"Mrs\", \"Ms\", \"Dr\", \"Prof\", \"Sr\", \"Jr\", \"Rev\"]\n",
    "\n",
    "    # Add a ~ at the start of each paragraph, excludes empty lines\n",
    "    text = re.sub(r'(?m)^(?=[^\\n])', '~', text.strip())\n",
    "\n",
    "    # Remove all line breaks\n",
    "    text = re.sub(r'\\n', ' ', text)\n",
    "\n",
    "    # Identify titles\n",
    "    titles_pattern = r'\\b(?:' + '|'.join(titles) + r')\\.'\n",
    "\n",
    "    # Add ^ to sentences generally\n",
    "    text = re.sub(r'([.!?])(\\s+)(?=[A-Z~])', r'\\1^\\2', text)\n",
    "    text = re.sub(r'([.!?])(?=~)', r'\\1^', text)\n",
    "\n",
    "    # Remove ^ after titles\n",
    "    text = re.sub(rf'({titles_pattern})\\^', r'\\1', text)\n",
    "\n",
    "    return text\n",
    "\n",
    "def process_file(input_file):\n",
    "    # Read the input file\n",
    "    with open(input_file, 'r') as file:\n",
    "        text = file.read()\n",
    "\n",
    "    # Process the text\n",
    "    processed_text = process_text(text)\n",
    "\n",
    "    # Generate the output file name\n",
    "    base, ext = os.path.splitext(input_file)\n",
    "    output_file = base + '_edus' + ext\n",
    "\n",
    "    # Write the processed text to the new file\n",
    "    with open(output_file, 'w') as file:\n",
    "        file.write(processed_text)\n",
    "\n",
    "    print(f'Processed text saved to: {output_file}')\n",
    "    \n",
    "input_file = 'RemoteWork1.txt'\n",
    "process_file(input_file)"
   ]
  },
  {
   "cell_type": "code",
   "execution_count": null,
   "id": "bd40c17e",
   "metadata": {},
   "outputs": [],
   "source": []
  }
 ],
 "metadata": {
  "kernelspec": {
   "display_name": "Python 3 (ipykernel)",
   "language": "python",
   "name": "python3"
  },
  "language_info": {
   "codemirror_mode": {
    "name": "ipython",
    "version": 3
   },
   "file_extension": ".py",
   "mimetype": "text/x-python",
   "name": "python",
   "nbconvert_exporter": "python",
   "pygments_lexer": "ipython3",
   "version": "3.10.9"
  }
 },
 "nbformat": 4,
 "nbformat_minor": 5
}
